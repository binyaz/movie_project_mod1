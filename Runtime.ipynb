{
 "cells": [
  {
   "cell_type": "code",
   "execution_count": 18,
   "metadata": {},
   "outputs": [],
   "source": [
    "import numpy as np\n",
    "import pandas as pd\n",
    "import sqlite3\n",
    "from pandasql import sqldf\n",
    "import matplotlib.pyplot as plt"
   ]
  },
  {
   "cell_type": "code",
   "execution_count": 2,
   "metadata": {},
   "outputs": [],
   "source": [
    "#Added all data as dataframes\n",
    "movie_gross = pd.read_csv('zippedData/bom.movie_gross.csv.gz')\n",
    "name_basics = pd.read_csv('zippedData/imdb.name.basics.csv.gz')\n",
    "title_akas = pd.read_csv('zippedData/imdb.title.akas.csv.gz')\n",
    "title_basics= pd.read_csv('zippedData/imdb.title.basics.csv.gz')\n",
    "title_crew = pd.read_csv('zippedData/imdb.title.crew.csv.gz')\n",
    "title_principals = pd.read_csv('zippedData/imdb.title.principals.csv.gz')\n",
    "title_ratings = pd.read_csv('zippedData/imdb.title.ratings.csv.gz')\n",
    "movie_info = pd.read_csv('zippedData/rt.movie_info.tsv.gz', '\\t')\n",
    "reviews = pd.read_csv('zippedData/rt.reviews.tsv.gz', '\\t', encoding='windows-1252')\n",
    "movies = pd.read_csv('zippedData/tmdb.movies.csv.gz')\n",
    "movie_budgets = pd.read_csv('zippedData/tn.movie_budgets.csv.gz')"
   ]
  },
  {
   "cell_type": "code",
   "execution_count": 3,
   "metadata": {},
   "outputs": [
    {
     "name": "stdout",
     "output_type": "stream",
     "text": [
      "<class 'pandas.core.frame.DataFrame'>\n",
      "RangeIndex: 5782 entries, 0 to 5781\n",
      "Data columns (total 6 columns):\n",
      " #   Column             Non-Null Count  Dtype \n",
      "---  ------             --------------  ----- \n",
      " 0   id                 5782 non-null   int64 \n",
      " 1   release_date       5782 non-null   object\n",
      " 2   movie              5782 non-null   object\n",
      " 3   production_budget  5782 non-null   int64 \n",
      " 4   domestic_gross     5782 non-null   object\n",
      " 5   worldwide_gross    5782 non-null   object\n",
      "dtypes: int64(2), object(4)\n",
      "memory usage: 271.2+ KB\n"
     ]
    }
   ],
   "source": [
    "movie_budgets['production_budget'] = movie_budgets['production_budget'].map(lambda x: x.strip('$'))\n",
    "movie_budgets['production_budget'] = movie_budgets['production_budget'].map(lambda x: x.replace(',', ''))\n",
    "movie_budgets['production_budget'] = movie_budgets['production_budget'].astype('int64')\n",
    "movie_budgets.info()"
   ]
  },
  {
   "cell_type": "code",
   "execution_count": 4,
   "metadata": {},
   "outputs": [
    {
     "name": "stdout",
     "output_type": "stream",
     "text": [
      "<class 'pandas.core.frame.DataFrame'>\n",
      "RangeIndex: 5782 entries, 0 to 5781\n",
      "Data columns (total 6 columns):\n",
      " #   Column             Non-Null Count  Dtype \n",
      "---  ------             --------------  ----- \n",
      " 0   id                 5782 non-null   int64 \n",
      " 1   release_date       5782 non-null   object\n",
      " 2   movie              5782 non-null   object\n",
      " 3   production_budget  5782 non-null   int64 \n",
      " 4   domestic_gross     5782 non-null   int64 \n",
      " 5   worldwide_gross    5782 non-null   object\n",
      "dtypes: int64(3), object(3)\n",
      "memory usage: 271.2+ KB\n"
     ]
    }
   ],
   "source": [
    "movie_budgets['domestic_gross'] = movie_budgets['domestic_gross'].map(lambda x: x.strip('$'))\n",
    "movie_budgets['domestic_gross'] = movie_budgets['domestic_gross'].map(lambda x: x.replace(',', ''))\n",
    "movie_budgets['domestic_gross'] = movie_budgets['domestic_gross'].astype('int64')\n",
    "movie_budgets.info()"
   ]
  },
  {
   "cell_type": "code",
   "execution_count": 5,
   "metadata": {},
   "outputs": [
    {
     "name": "stdout",
     "output_type": "stream",
     "text": [
      "<class 'pandas.core.frame.DataFrame'>\n",
      "RangeIndex: 5782 entries, 0 to 5781\n",
      "Data columns (total 6 columns):\n",
      " #   Column             Non-Null Count  Dtype \n",
      "---  ------             --------------  ----- \n",
      " 0   id                 5782 non-null   int64 \n",
      " 1   release_date       5782 non-null   object\n",
      " 2   movie              5782 non-null   object\n",
      " 3   production_budget  5782 non-null   int64 \n",
      " 4   domestic_gross     5782 non-null   int64 \n",
      " 5   worldwide_gross    5782 non-null   int64 \n",
      "dtypes: int64(4), object(2)\n",
      "memory usage: 271.2+ KB\n"
     ]
    }
   ],
   "source": [
    "movie_budgets['worldwide_gross'] = movie_budgets['worldwide_gross'].map(lambda x: x.strip('$'))\n",
    "movie_budgets['worldwide_gross'] = movie_budgets['worldwide_gross'].map(lambda x: x.replace(',', ''))\n",
    "movie_budgets['worldwide_gross'] = movie_budgets['worldwide_gross'].astype('int64')\n",
    "movie_budgets.info()"
   ]
  },
  {
   "cell_type": "code",
   "execution_count": 6,
   "metadata": {},
   "outputs": [],
   "source": [
    "movie_budgets['release_month'] = movie_budgets['release_date'].apply(lambda x: x[:3])"
   ]
  },
  {
   "cell_type": "code",
   "execution_count": 7,
   "metadata": {},
   "outputs": [
    {
     "data": {
      "text/html": [
       "<div>\n",
       "<style scoped>\n",
       "    .dataframe tbody tr th:only-of-type {\n",
       "        vertical-align: middle;\n",
       "    }\n",
       "\n",
       "    .dataframe tbody tr th {\n",
       "        vertical-align: top;\n",
       "    }\n",
       "\n",
       "    .dataframe thead th {\n",
       "        text-align: right;\n",
       "    }\n",
       "</style>\n",
       "<table border=\"1\" class=\"dataframe\">\n",
       "  <thead>\n",
       "    <tr style=\"text-align: right;\">\n",
       "      <th></th>\n",
       "      <th>id</th>\n",
       "      <th>release_date</th>\n",
       "      <th>movie</th>\n",
       "      <th>production_budget</th>\n",
       "      <th>domestic_gross</th>\n",
       "      <th>worldwide_gross</th>\n",
       "      <th>release_month</th>\n",
       "      <th>profit</th>\n",
       "    </tr>\n",
       "  </thead>\n",
       "  <tbody>\n",
       "    <tr>\n",
       "      <th>0</th>\n",
       "      <td>1</td>\n",
       "      <td>Dec 18, 2009</td>\n",
       "      <td>Avatar</td>\n",
       "      <td>425000000</td>\n",
       "      <td>760507625</td>\n",
       "      <td>2776345279</td>\n",
       "      <td>Dec</td>\n",
       "      <td>2351345279</td>\n",
       "    </tr>\n",
       "    <tr>\n",
       "      <th>1</th>\n",
       "      <td>2</td>\n",
       "      <td>May 20, 2011</td>\n",
       "      <td>Pirates of the Caribbean: On Stranger Tides</td>\n",
       "      <td>410600000</td>\n",
       "      <td>241063875</td>\n",
       "      <td>1045663875</td>\n",
       "      <td>May</td>\n",
       "      <td>635063875</td>\n",
       "    </tr>\n",
       "    <tr>\n",
       "      <th>2</th>\n",
       "      <td>3</td>\n",
       "      <td>Jun 7, 2019</td>\n",
       "      <td>Dark Phoenix</td>\n",
       "      <td>350000000</td>\n",
       "      <td>42762350</td>\n",
       "      <td>149762350</td>\n",
       "      <td>Jun</td>\n",
       "      <td>-200237650</td>\n",
       "    </tr>\n",
       "    <tr>\n",
       "      <th>3</th>\n",
       "      <td>4</td>\n",
       "      <td>May 1, 2015</td>\n",
       "      <td>Avengers: Age of Ultron</td>\n",
       "      <td>330600000</td>\n",
       "      <td>459005868</td>\n",
       "      <td>1403013963</td>\n",
       "      <td>May</td>\n",
       "      <td>1072413963</td>\n",
       "    </tr>\n",
       "    <tr>\n",
       "      <th>4</th>\n",
       "      <td>5</td>\n",
       "      <td>Dec 15, 2017</td>\n",
       "      <td>Star Wars Ep. VIII: The Last Jedi</td>\n",
       "      <td>317000000</td>\n",
       "      <td>620181382</td>\n",
       "      <td>1316721747</td>\n",
       "      <td>Dec</td>\n",
       "      <td>999721747</td>\n",
       "    </tr>\n",
       "  </tbody>\n",
       "</table>\n",
       "</div>"
      ],
      "text/plain": [
       "   id  release_date                                        movie  \\\n",
       "0   1  Dec 18, 2009                                       Avatar   \n",
       "1   2  May 20, 2011  Pirates of the Caribbean: On Stranger Tides   \n",
       "2   3   Jun 7, 2019                                 Dark Phoenix   \n",
       "3   4   May 1, 2015                      Avengers: Age of Ultron   \n",
       "4   5  Dec 15, 2017            Star Wars Ep. VIII: The Last Jedi   \n",
       "\n",
       "   production_budget  domestic_gross  worldwide_gross release_month  \\\n",
       "0          425000000       760507625       2776345279           Dec   \n",
       "1          410600000       241063875       1045663875           May   \n",
       "2          350000000        42762350        149762350           Jun   \n",
       "3          330600000       459005868       1403013963           May   \n",
       "4          317000000       620181382       1316721747           Dec   \n",
       "\n",
       "       profit  \n",
       "0  2351345279  \n",
       "1   635063875  \n",
       "2  -200237650  \n",
       "3  1072413963  \n",
       "4   999721747  "
      ]
     },
     "execution_count": 7,
     "metadata": {},
     "output_type": "execute_result"
    }
   ],
   "source": [
    "movie_budgets['profit'] = movie_budgets['worldwide_gross'] - movie_budgets['production_budget']\n",
    "movie_budgets.head()"
   ]
  },
  {
   "cell_type": "code",
   "execution_count": 8,
   "metadata": {},
   "outputs": [],
   "source": [
    "pysqldf = lambda q: sqldf(q, globals())"
   ]
  },
  {
   "cell_type": "code",
   "execution_count": 9,
   "metadata": {},
   "outputs": [],
   "source": [
    "table = pysqldf('''select original_title, primary_title, primary_name, production_budget, worldwide_gross, genres, category, runtime_minutes, averagerating, numvotes, profit, release_month\n",
    "                    from movie_budgets mb\n",
    "                    join title_basics tb\n",
    "                    on mb.movie == tb.primary_title\n",
    "                    join title_principals\n",
    "                    using(tconst)\n",
    "                    join title_ratings\n",
    "                    using (tconst)\n",
    "                    join name_basics\n",
    "                    using(nconst)''')"
   ]
  },
  {
   "cell_type": "code",
   "execution_count": 10,
   "metadata": {},
   "outputs": [
    {
     "name": "stdout",
     "output_type": "stream",
     "text": [
      "<class 'pandas.core.frame.DataFrame'>\n",
      "RangeIndex: 27145 entries, 0 to 27144\n",
      "Data columns (total 12 columns):\n",
      " #   Column             Non-Null Count  Dtype  \n",
      "---  ------             --------------  -----  \n",
      " 0   original_title     27145 non-null  object \n",
      " 1   primary_title      27145 non-null  object \n",
      " 2   primary_name       27145 non-null  object \n",
      " 3   production_budget  27145 non-null  int64  \n",
      " 4   worldwide_gross    27145 non-null  int64  \n",
      " 5   genres             27085 non-null  object \n",
      " 6   category           27145 non-null  object \n",
      " 7   runtime_minutes    26168 non-null  float64\n",
      " 8   averagerating      27145 non-null  float64\n",
      " 9   numvotes           27145 non-null  int64  \n",
      " 10  profit             27145 non-null  int64  \n",
      " 11  release_month      27145 non-null  object \n",
      "dtypes: float64(2), int64(4), object(6)\n",
      "memory usage: 2.5+ MB\n"
     ]
    }
   ],
   "source": [
    "table.info()"
   ]
  },
  {
   "cell_type": "code",
   "execution_count": 11,
   "metadata": {},
   "outputs": [
    {
     "data": {
      "text/html": [
       "<div>\n",
       "<style scoped>\n",
       "    .dataframe tbody tr th:only-of-type {\n",
       "        vertical-align: middle;\n",
       "    }\n",
       "\n",
       "    .dataframe tbody tr th {\n",
       "        vertical-align: top;\n",
       "    }\n",
       "\n",
       "    .dataframe thead th {\n",
       "        text-align: right;\n",
       "    }\n",
       "</style>\n",
       "<table border=\"1\" class=\"dataframe\">\n",
       "  <thead>\n",
       "    <tr style=\"text-align: right;\">\n",
       "      <th></th>\n",
       "      <th>original_title</th>\n",
       "      <th>primary_title</th>\n",
       "      <th>primary_name</th>\n",
       "      <th>production_budget</th>\n",
       "      <th>worldwide_gross</th>\n",
       "      <th>genres</th>\n",
       "      <th>category</th>\n",
       "      <th>runtime_minutes</th>\n",
       "      <th>averagerating</th>\n",
       "      <th>numvotes</th>\n",
       "      <th>profit</th>\n",
       "      <th>release_month</th>\n",
       "    </tr>\n",
       "  </thead>\n",
       "  <tbody>\n",
       "    <tr>\n",
       "      <th>0</th>\n",
       "      <td>Abatâ</td>\n",
       "      <td>Avatar</td>\n",
       "      <td>Ai Hashimoto</td>\n",
       "      <td>425000000</td>\n",
       "      <td>2776345279</td>\n",
       "      <td>Horror</td>\n",
       "      <td>actress</td>\n",
       "      <td>93.0</td>\n",
       "      <td>6.1</td>\n",
       "      <td>43</td>\n",
       "      <td>2351345279</td>\n",
       "      <td>Dec</td>\n",
       "    </tr>\n",
       "    <tr>\n",
       "      <th>1</th>\n",
       "      <td>Abatâ</td>\n",
       "      <td>Avatar</td>\n",
       "      <td>Yûsuke Yamada</td>\n",
       "      <td>425000000</td>\n",
       "      <td>2776345279</td>\n",
       "      <td>Horror</td>\n",
       "      <td>writer</td>\n",
       "      <td>93.0</td>\n",
       "      <td>6.1</td>\n",
       "      <td>43</td>\n",
       "      <td>2351345279</td>\n",
       "      <td>Dec</td>\n",
       "    </tr>\n",
       "    <tr>\n",
       "      <th>2</th>\n",
       "      <td>Abatâ</td>\n",
       "      <td>Avatar</td>\n",
       "      <td>Rikako Sakata</td>\n",
       "      <td>425000000</td>\n",
       "      <td>2776345279</td>\n",
       "      <td>Horror</td>\n",
       "      <td>actress</td>\n",
       "      <td>93.0</td>\n",
       "      <td>6.1</td>\n",
       "      <td>43</td>\n",
       "      <td>2351345279</td>\n",
       "      <td>Dec</td>\n",
       "    </tr>\n",
       "    <tr>\n",
       "      <th>3</th>\n",
       "      <td>Abatâ</td>\n",
       "      <td>Avatar</td>\n",
       "      <td>Nako Mizusawa</td>\n",
       "      <td>425000000</td>\n",
       "      <td>2776345279</td>\n",
       "      <td>Horror</td>\n",
       "      <td>actress</td>\n",
       "      <td>93.0</td>\n",
       "      <td>6.1</td>\n",
       "      <td>43</td>\n",
       "      <td>2351345279</td>\n",
       "      <td>Dec</td>\n",
       "    </tr>\n",
       "    <tr>\n",
       "      <th>4</th>\n",
       "      <td>Abatâ</td>\n",
       "      <td>Avatar</td>\n",
       "      <td>Hideki Ikari</td>\n",
       "      <td>425000000</td>\n",
       "      <td>2776345279</td>\n",
       "      <td>Horror</td>\n",
       "      <td>composer</td>\n",
       "      <td>93.0</td>\n",
       "      <td>6.1</td>\n",
       "      <td>43</td>\n",
       "      <td>2351345279</td>\n",
       "      <td>Dec</td>\n",
       "    </tr>\n",
       "  </tbody>\n",
       "</table>\n",
       "</div>"
      ],
      "text/plain": [
       "  original_title primary_title   primary_name  production_budget  \\\n",
       "0          Abatâ        Avatar   Ai Hashimoto          425000000   \n",
       "1          Abatâ        Avatar  Yûsuke Yamada          425000000   \n",
       "2          Abatâ        Avatar  Rikako Sakata          425000000   \n",
       "3          Abatâ        Avatar  Nako Mizusawa          425000000   \n",
       "4          Abatâ        Avatar   Hideki Ikari          425000000   \n",
       "\n",
       "   worldwide_gross  genres  category  runtime_minutes  averagerating  \\\n",
       "0       2776345279  Horror   actress             93.0            6.1   \n",
       "1       2776345279  Horror    writer             93.0            6.1   \n",
       "2       2776345279  Horror   actress             93.0            6.1   \n",
       "3       2776345279  Horror   actress             93.0            6.1   \n",
       "4       2776345279  Horror  composer             93.0            6.1   \n",
       "\n",
       "   numvotes      profit release_month  \n",
       "0        43  2351345279           Dec  \n",
       "1        43  2351345279           Dec  \n",
       "2        43  2351345279           Dec  \n",
       "3        43  2351345279           Dec  \n",
       "4        43  2351345279           Dec  "
      ]
     },
     "execution_count": 11,
     "metadata": {},
     "output_type": "execute_result"
    }
   ],
   "source": [
    "table.head()"
   ]
  },
  {
   "cell_type": "code",
   "execution_count": 33,
   "metadata": {},
   "outputs": [
    {
     "name": "stdout",
     "output_type": "stream",
     "text": [
      "27145\n",
      "runtime_minutes    977\n",
      "profit               0\n",
      "dtype: int64\n"
     ]
    },
    {
     "data": {
      "text/plain": [
       "26168"
      ]
     },
     "execution_count": 33,
     "metadata": {},
     "output_type": "execute_result"
    }
   ],
   "source": [
    "print(len(table[{'runtime_minutes', 'profit'}]))\n",
    "print(table[{'runtime_minutes', 'profit'}].isna().sum())\n",
    "runtime_clean = table[{'runtime_minutes', 'profit'}].dropna()\n",
    "len(runtime_clean)"
   ]
  },
  {
   "cell_type": "code",
   "execution_count": 56,
   "metadata": {},
   "outputs": [
    {
     "data": {
      "text/plain": [
       "[<matplotlib.lines.Line2D at 0x7f8e9280ca90>]"
      ]
     },
     "execution_count": 56,
     "metadata": {},
     "output_type": "execute_result"
    },
    {
     "data": {
      "image/png": "[encoded data removed]",
      "text/plain": [
       "<Figure size 432x288 with 1 Axes>"
      ]
     },
     "metadata": {
      "needs_background": "light"
     },
     "output_type": "display_data"
    }
   ],
   "source": [
    "fig, axes = plt.subplots()\n",
    "plt.title('Runtime vs Profit')\n",
    "x = runtime_clean.runtime_minutes\n",
    "y = runtime_clean.profit\n",
    "axes.scatter(x,y)\n",
    "p = np.poly1d(np.polyfit(x,y,4))\n",
    "xp = np.linspace(0,280,100)\n",
    "axes.plot(xp,p(xp), color = 'red')"
   ]
  },
  {
   "cell_type": "code",
   "execution_count": null,
   "metadata": {},
   "outputs": [],
   "source": []
  }
 ],
 "metadata": {
  "kernelspec": {
   "display_name": "Python 3",
   "language": "python",
   "name": "python3"
  },
  "language_info": {
   "codemirror_mode": {
    "name": "ipython",
    "version": 3
   },
   "file_extension": ".py",
   "mimetype": "text/x-python",
   "name": "python",
   "nbconvert_exporter": "python",
   "pygments_lexer": "ipython3",
   "version": "3.7.6"
  }
 },
 "nbformat": 4,
 "nbformat_minor": 4
}
